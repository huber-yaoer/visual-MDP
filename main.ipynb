{
 "cells": [
  {
   "cell_type": "markdown",
   "metadata": {
    "collapsed": false
   },
   "source": [
    "Select a box and press Shift+Enter to run"
   ]
  },
  {
   "cell_type": "code",
   "execution_count": null,
   "metadata": {
    "collapsed": false
   },
   "outputs": [],
   "source": [
    "## standard imports\n",
    "import matplotlib, matplotlib.pyplot as plt\n",
    "from ipywidgets import *\n",
    "from IPython import display\n",
    "import PIL.Image\n",
    "%matplotlib inline\n",
    "%autosave 0\n",
    "\n",
    "## custom libraries\n",
    "from MDP import MDP\n",
    "from ValueIteration import VI, vi_wrapper\n",
    "from visualization import visualize_values, visualize_map\n",
    "from generator import default_env, make_env\n",
    "\n",
    "## initialize MDP \n",
    "mdp = MDP(default_env['rewards'], default_env['terminal'])\n",
    "vi = VI(mdp)"
   ]
  },
  {
   "cell_type": "markdown",
   "metadata": {},
   "source": [
    "Let's consider the map below, a Lava World with a single goal"
   ]
  },
  {
   "cell_type": "code",
   "execution_count": null,
   "metadata": {
    "collapsed": false
   },
   "outputs": [],
   "source": [
    "grid = visualize_map(default_env['rewards'], default_env['terminal'], cell_dim=30)\n",
    "PIL.Image.fromarray(grid, 'RGB')"
   ]
  },
  {
   "cell_type": "code",
   "execution_count": null,
   "metadata": {
    "collapsed": false
   },
   "outputs": [],
   "source": [
    "## Run value iteration on MDP\n",
    "values, policy = vi.iterate(iterations=30, visualize=True)"
   ]
  },
  {
   "cell_type": "markdown",
   "metadata": {},
   "source": [
    "Now we look at the effects of changing the rewards and discount value. We'll use the following map:"
   ]
  },
  {
   "cell_type": "code",
   "execution_count": null,
   "metadata": {
    "collapsed": false
   },
   "outputs": [],
   "source": [
    "rewards, terminal = make_env(0,1,-1)\n",
    "small_map = visualize_map(rewards, terminal, cell_dim=30)\n",
    "PIL.Image.fromarray(small_map, 'RGB')"
   ]
  },
  {
   "cell_type": "code",
   "execution_count": null,
   "metadata": {
    "collapsed": false
   },
   "outputs": [],
   "source": [
    "interact(vi_wrapper, reward=widgets.IntSlider(min=1,max=8,step=1,value=5), lava=widgets.FloatSlider(min=-5,max=0,step=0.25,value=-3), gamma=widgets.FloatSlider(min=0.1,max=0.9,step=0.1,value=0.9));"
   ]
  },
  {
   "cell_type": "code",
   "execution_count": null,
   "metadata": {
    "collapsed": true
   },
   "outputs": [],
   "source": []
  }
 ],
 "metadata": {
  "kernelspec": {
   "display_name": "Python 2",
   "language": "python",
   "name": "python2"
  },
  "language_info": {
   "codemirror_mode": {
    "name": "ipython",
    "version": 2
   },
   "file_extension": ".py",
   "mimetype": "text/x-python",
   "name": "python",
   "nbconvert_exporter": "python",
   "pygments_lexer": "ipython2",
   "version": "2.7.13"
  },
  "widgets": {
   "state": {
    "30c63ebc3d2b4f5e86049b8bfba900e0": {
     "views": [
      {
       "cell_index": 7
      }
     ]
    }
   },
   "version": "1.2.0"
  }
 },
 "nbformat": 4,
 "nbformat_minor": 0
}
