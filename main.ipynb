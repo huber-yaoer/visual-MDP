{
 "cells": [
  {
   "cell_type": "markdown",
   "metadata": {
    "collapsed": false
   },
   "source": [
    "Select a box and press Shift+Enter to run"
   ]
  },
  {
   "cell_type": "code",
   "execution_count": null,
   "metadata": {
    "collapsed": false
   },
   "outputs": [],
   "source": [
    "## standard imports\n",
    "import matplotlib, matplotlib.pyplot as plt, PIL.Image, IPython.display as display\n",
    "from ipywidgets import interact, widgets\n",
    "# from IPython import display\n",
    "%matplotlib inline\n",
    "%autosave 0\n",
    "\n",
    "## custom libraries\n",
    "from src import *\n",
    "\n",
    "## initialize MDP \n",
    "large_rewards, large_terminal = make_large_env(reward_value=1, lava_value=-1)\n",
    "mdp = MDP(large_rewards, large_terminal)\n",
    "vi = VI(mdp)"
   ]
  },
  {
   "cell_type": "markdown",
   "metadata": {},
   "source": [
    "Let's consider the map below, a Lava World with a single goal"
   ]
  },
  {
   "cell_type": "code",
   "execution_count": null,
   "metadata": {
    "collapsed": false
   },
   "outputs": [],
   "source": [
    "grid = visualize_map(large_rewards, large_terminal, cell_dim=30)\n",
    "PIL.Image.fromarray(grid, 'RGB')"
   ]
  },
  {
   "cell_type": "code",
   "execution_count": null,
   "metadata": {
    "collapsed": false
   },
   "outputs": [],
   "source": [
    "## Run value iteration on MDP\n",
    "values, policy = vi.iterate(iterations=30, visualize=True)"
   ]
  },
  {
   "cell_type": "markdown",
   "metadata": {},
   "source": [
    "Now we look at the effects of changing the rewards and discount value. We'll use the following map:"
   ]
  },
  {
   "cell_type": "code",
   "execution_count": null,
   "metadata": {
    "collapsed": false
   },
   "outputs": [],
   "source": [
    "small_rewards, small_terminal = make_small_env(reward_value=1,lava_value=-1)\n",
    "small_map = visualize_map(small_rewards, small_terminal, cell_dim=30)\n",
    "PIL.Image.fromarray(small_map, 'RGB')"
   ]
  },
  {
   "cell_type": "code",
   "execution_count": null,
   "metadata": {
    "collapsed": false
   },
   "outputs": [],
   "source": [
    "interact(vi_wrapper, reward=widgets.IntSlider(min=1,max=8,step=1,value=5), lava=widgets.FloatSlider(min=-5,max=0,step=0.25,value=-3), gamma=widgets.FloatSlider(min=0.1,max=0.9,step=0.1,value=0.9));"
   ]
  },
  {
   "cell_type": "code",
   "execution_count": null,
   "metadata": {
    "collapsed": true
   },
   "outputs": [],
   "source": []
  }
 ],
 "metadata": {
  "kernelspec": {
   "display_name": "Python 2",
   "language": "python",
   "name": "python2"
  },
  "language_info": {
   "codemirror_mode": {
    "name": "ipython",
    "version": 2
   },
   "file_extension": ".py",
   "mimetype": "text/x-python",
   "name": "python",
   "nbconvert_exporter": "python",
   "pygments_lexer": "ipython2",
   "version": "2.7.11"
  },
  "widgets": {
   "state": {
    "3e9e6de2ad694406bd186da48ac5a4c4": {
     "views": []
    },
    "4aaeb3b3e3b5464ea737f8eb2668b7ca": {
     "views": []
    },
    "4b593cd4d67345ccb734652ad1c0dc99": {
     "views": []
    },
    "66e28bf7e92e43a29eecaf0b1a938f41": {
     "views": []
    },
    "68c7bad93d8a464d9cf8a0c994263653": {
     "views": []
    },
    "6c8cf7e2d34641508f1610105be0dc5c": {
     "views": []
    },
    "7c8b922f32e043c6801840293406b9a4": {
     "views": []
    },
    "8bbf2eeebcc941758cc60234c683dde6": {
     "views": [
      {
       "cell_index": 7
      }
     ]
    }
   },
   "version": "1.1.2"
  }
 },
 "nbformat": 4,
 "nbformat_minor": 0
}
